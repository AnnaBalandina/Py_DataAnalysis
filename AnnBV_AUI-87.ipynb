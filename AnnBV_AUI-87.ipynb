{
 "cells": [
  {
   "cell_type": "code",
   "execution_count": 19,
   "metadata": {},
   "outputs": [],
   "source": [
    "import numpy as np\n",
    "import pandas as pd\n",
    "import matplotlib\n",
    "import matplotlib.pyplot as plt\n",
    "import scipy.stats as stats\n",
    "import statsmodels.api as sm\n",
    "from statsmodels.formula.api import ols"
   ]
  },
  {
   "cell_type": "code",
   "execution_count": 21,
   "metadata": {},
   "outputs": [
    {
     "data": {
      "text/html": [
       "<div>\n",
       "<style scoped>\n",
       "    .dataframe tbody tr th:only-of-type {\n",
       "        vertical-align: middle;\n",
       "    }\n",
       "\n",
       "    .dataframe tbody tr th {\n",
       "        vertical-align: top;\n",
       "    }\n",
       "\n",
       "    .dataframe thead th {\n",
       "        text-align: right;\n",
       "    }\n",
       "</style>\n",
       "<table border=\"1\" class=\"dataframe\">\n",
       "  <thead>\n",
       "    <tr style=\"text-align: right;\">\n",
       "      <th></th>\n",
       "      <th>k</th>\n",
       "      <th>c_3</th>\n",
       "      <th>c_4</th>\n",
       "      <th>c_5</th>\n",
       "      <th>c_10</th>\n",
       "      <th>c_25</th>\n",
       "      <th>c_50</th>\n",
       "      <th>c_100</th>\n",
       "      <th>c_200</th>\n",
       "      <th>c_300</th>\n",
       "      <th>c_400</th>\n",
       "      <th>c_500</th>\n",
       "    </tr>\n",
       "  </thead>\n",
       "  <tbody>\n",
       "    <tr>\n",
       "      <th>8</th>\n",
       "      <td>102.283105</td>\n",
       "      <td>97.518364</td>\n",
       "      <td>98.312488</td>\n",
       "      <td>94.183045</td>\n",
       "      <td>103.077229</td>\n",
       "      <td>94.977169</td>\n",
       "      <td>106.412547</td>\n",
       "      <td>95.930117</td>\n",
       "      <td>61.941632</td>\n",
       "      <td>92.277149</td>\n",
       "      <td>146.595196</td>\n",
       "      <td>95.930117</td>\n",
       "    </tr>\n",
       "    <tr>\n",
       "      <th>9</th>\n",
       "      <td>101.488982</td>\n",
       "      <td>101.806631</td>\n",
       "      <td>99.106611</td>\n",
       "      <td>73.377010</td>\n",
       "      <td>93.388922</td>\n",
       "      <td>91.324201</td>\n",
       "      <td>69.088743</td>\n",
       "      <td>92.753623</td>\n",
       "      <td>65.753425</td>\n",
       "      <td>100.377209</td>\n",
       "      <td>77.665277</td>\n",
       "      <td>94.500695</td>\n",
       "    </tr>\n",
       "    <tr>\n",
       "      <th>10</th>\n",
       "      <td>93.388922</td>\n",
       "      <td>100.377209</td>\n",
       "      <td>102.918404</td>\n",
       "      <td>93.547747</td>\n",
       "      <td>93.865396</td>\n",
       "      <td>98.630137</td>\n",
       "      <td>61.941632</td>\n",
       "      <td>82.112368</td>\n",
       "      <td>63.053405</td>\n",
       "      <td>92.912448</td>\n",
       "      <td>81.794719</td>\n",
       "      <td>100.218384</td>\n",
       "    </tr>\n",
       "    <tr>\n",
       "      <th>11</th>\n",
       "      <td>101.488982</td>\n",
       "      <td>80.841771</td>\n",
       "      <td>97.041890</td>\n",
       "      <td>92.277149</td>\n",
       "      <td>57.335716</td>\n",
       "      <td>94.977169</td>\n",
       "      <td>95.135994</td>\n",
       "      <td>93.230097</td>\n",
       "      <td>74.012309</td>\n",
       "      <td>92.912448</td>\n",
       "      <td>73.853484</td>\n",
       "      <td>84.653564</td>\n",
       "    </tr>\n",
       "    <tr>\n",
       "      <th>12</th>\n",
       "      <td>105.141950</td>\n",
       "      <td>79.888823</td>\n",
       "      <td>94.341870</td>\n",
       "      <td>73.218185</td>\n",
       "      <td>81.477070</td>\n",
       "      <td>92.118324</td>\n",
       "      <td>63.847528</td>\n",
       "      <td>92.435974</td>\n",
       "      <td>60.829859</td>\n",
       "      <td>93.388922</td>\n",
       "      <td>85.130038</td>\n",
       "      <td>105.300774</td>\n",
       "    </tr>\n",
       "    <tr>\n",
       "      <th>13</th>\n",
       "      <td>98.788962</td>\n",
       "      <td>103.077229</td>\n",
       "      <td>81.635894</td>\n",
       "      <td>90.371253</td>\n",
       "      <td>96.883065</td>\n",
       "      <td>91.165376</td>\n",
       "      <td>69.882867</td>\n",
       "      <td>80.682946</td>\n",
       "      <td>82.747667</td>\n",
       "      <td>95.612468</td>\n",
       "      <td>83.382966</td>\n",
       "      <td>105.936073</td>\n",
       "    </tr>\n",
       "    <tr>\n",
       "      <th>14</th>\n",
       "      <td>99.424260</td>\n",
       "      <td>94.341870</td>\n",
       "      <td>96.724241</td>\n",
       "      <td>94.977169</td>\n",
       "      <td>104.983125</td>\n",
       "      <td>103.712527</td>\n",
       "      <td>75.759381</td>\n",
       "      <td>92.753623</td>\n",
       "      <td>99.900735</td>\n",
       "      <td>91.641850</td>\n",
       "      <td>91.324201</td>\n",
       "      <td>104.665475</td>\n",
       "    </tr>\n",
       "    <tr>\n",
       "      <th>15</th>\n",
       "      <td>97.994838</td>\n",
       "      <td>89.418305</td>\n",
       "      <td>89.735954</td>\n",
       "      <td>98.788962</td>\n",
       "      <td>96.088942</td>\n",
       "      <td>98.471312</td>\n",
       "      <td>97.359539</td>\n",
       "      <td>101.806631</td>\n",
       "      <td>79.412349</td>\n",
       "      <td>108.159619</td>\n",
       "      <td>92.912448</td>\n",
       "      <td>107.683145</td>\n",
       "    </tr>\n",
       "    <tr>\n",
       "      <th>16</th>\n",
       "      <td>95.927012</td>\n",
       "      <td>112.349299</td>\n",
       "      <td>110.263930</td>\n",
       "      <td>110.003258</td>\n",
       "      <td>120.169436</td>\n",
       "      <td>119.126751</td>\n",
       "      <td>123.818833</td>\n",
       "      <td>113.652656</td>\n",
       "      <td>123.818833</td>\n",
       "      <td>114.434669</td>\n",
       "      <td>112.609971</td>\n",
       "      <td>128.250244</td>\n",
       "    </tr>\n",
       "    <tr>\n",
       "      <th>17</th>\n",
       "      <td>91.495601</td>\n",
       "      <td>109.481916</td>\n",
       "      <td>107.396546</td>\n",
       "      <td>104.789834</td>\n",
       "      <td>107.917889</td>\n",
       "      <td>115.998697</td>\n",
       "      <td>118.084066</td>\n",
       "      <td>131.638970</td>\n",
       "      <td>119.387423</td>\n",
       "      <td>112.088628</td>\n",
       "      <td>108.960573</td>\n",
       "      <td>118.605409</td>\n",
       "    </tr>\n",
       "    <tr>\n",
       "      <th>18</th>\n",
       "      <td>99.055067</td>\n",
       "      <td>106.875204</td>\n",
       "      <td>125.904203</td>\n",
       "      <td>114.434669</td>\n",
       "      <td>109.481916</td>\n",
       "      <td>112.609971</td>\n",
       "      <td>119.908765</td>\n",
       "      <td>123.558162</td>\n",
       "      <td>124.079505</td>\n",
       "      <td>102.443793</td>\n",
       "      <td>125.382861</td>\n",
       "      <td>109.481916</td>\n",
       "    </tr>\n",
       "    <tr>\n",
       "      <th>19</th>\n",
       "      <td>97.491039</td>\n",
       "      <td>108.960573</td>\n",
       "      <td>111.306615</td>\n",
       "      <td>114.956012</td>\n",
       "      <td>112.088628</td>\n",
       "      <td>129.292929</td>\n",
       "      <td>131.899642</td>\n",
       "      <td>126.946888</td>\n",
       "      <td>120.951450</td>\n",
       "      <td>116.259368</td>\n",
       "      <td>121.994135</td>\n",
       "      <td>114.695341</td>\n",
       "    </tr>\n",
       "    <tr>\n",
       "      <th>20</th>\n",
       "      <td>100.358423</td>\n",
       "      <td>106.875204</td>\n",
       "      <td>115.477354</td>\n",
       "      <td>110.003258</td>\n",
       "      <td>124.079505</td>\n",
       "      <td>115.477354</td>\n",
       "      <td>121.212121</td>\n",
       "      <td>128.771587</td>\n",
       "      <td>129.032258</td>\n",
       "      <td>112.349299</td>\n",
       "      <td>117.041382</td>\n",
       "      <td>122.776149</td>\n",
       "    </tr>\n",
       "    <tr>\n",
       "      <th>21</th>\n",
       "      <td>102.704464</td>\n",
       "      <td>118.084066</td>\n",
       "      <td>115.738025</td>\n",
       "      <td>111.045943</td>\n",
       "      <td>124.600847</td>\n",
       "      <td>127.207559</td>\n",
       "      <td>127.728902</td>\n",
       "      <td>126.946888</td>\n",
       "      <td>130.596285</td>\n",
       "      <td>114.956012</td>\n",
       "      <td>122.254806</td>\n",
       "      <td>118.344738</td>\n",
       "    </tr>\n",
       "    <tr>\n",
       "      <th>22</th>\n",
       "      <td>109.221245</td>\n",
       "      <td>113.391984</td>\n",
       "      <td>110.263930</td>\n",
       "      <td>121.472792</td>\n",
       "      <td>127.207559</td>\n",
       "      <td>111.306615</td>\n",
       "      <td>119.908765</td>\n",
       "      <td>126.425546</td>\n",
       "      <td>136.331052</td>\n",
       "      <td>108.960573</td>\n",
       "      <td>127.468231</td>\n",
       "      <td>114.434669</td>\n",
       "    </tr>\n",
       "    <tr>\n",
       "      <th>23</th>\n",
       "      <td>103.747149</td>\n",
       "      <td>110.785272</td>\n",
       "      <td>91.756272</td>\n",
       "      <td>121.472792</td>\n",
       "      <td>120.169436</td>\n",
       "      <td>111.567286</td>\n",
       "      <td>130.335614</td>\n",
       "      <td>125.122190</td>\n",
       "      <td>123.818833</td>\n",
       "      <td>132.681655</td>\n",
       "      <td>124.861518</td>\n",
       "      <td>134.245683</td>\n",
       "    </tr>\n",
       "  </tbody>\n",
       "</table>\n",
       "</div>"
      ],
      "text/plain": [
       "             k         c_3         c_4         c_5        c_10        c_25  \\\n",
       "8   102.283105   97.518364   98.312488   94.183045  103.077229   94.977169   \n",
       "9   101.488982  101.806631   99.106611   73.377010   93.388922   91.324201   \n",
       "10   93.388922  100.377209  102.918404   93.547747   93.865396   98.630137   \n",
       "11  101.488982   80.841771   97.041890   92.277149   57.335716   94.977169   \n",
       "12  105.141950   79.888823   94.341870   73.218185   81.477070   92.118324   \n",
       "13   98.788962  103.077229   81.635894   90.371253   96.883065   91.165376   \n",
       "14   99.424260   94.341870   96.724241   94.977169  104.983125  103.712527   \n",
       "15   97.994838   89.418305   89.735954   98.788962   96.088942   98.471312   \n",
       "16   95.927012  112.349299  110.263930  110.003258  120.169436  119.126751   \n",
       "17   91.495601  109.481916  107.396546  104.789834  107.917889  115.998697   \n",
       "18   99.055067  106.875204  125.904203  114.434669  109.481916  112.609971   \n",
       "19   97.491039  108.960573  111.306615  114.956012  112.088628  129.292929   \n",
       "20  100.358423  106.875204  115.477354  110.003258  124.079505  115.477354   \n",
       "21  102.704464  118.084066  115.738025  111.045943  124.600847  127.207559   \n",
       "22  109.221245  113.391984  110.263930  121.472792  127.207559  111.306615   \n",
       "23  103.747149  110.785272   91.756272  121.472792  120.169436  111.567286   \n",
       "\n",
       "          c_50       c_100       c_200       c_300       c_400       c_500  \n",
       "8   106.412547   95.930117   61.941632   92.277149  146.595196   95.930117  \n",
       "9    69.088743   92.753623   65.753425  100.377209   77.665277   94.500695  \n",
       "10   61.941632   82.112368   63.053405   92.912448   81.794719  100.218384  \n",
       "11   95.135994   93.230097   74.012309   92.912448   73.853484   84.653564  \n",
       "12   63.847528   92.435974   60.829859   93.388922   85.130038  105.300774  \n",
       "13   69.882867   80.682946   82.747667   95.612468   83.382966  105.936073  \n",
       "14   75.759381   92.753623   99.900735   91.641850   91.324201  104.665475  \n",
       "15   97.359539  101.806631   79.412349  108.159619   92.912448  107.683145  \n",
       "16  123.818833  113.652656  123.818833  114.434669  112.609971  128.250244  \n",
       "17  118.084066  131.638970  119.387423  112.088628  108.960573  118.605409  \n",
       "18  119.908765  123.558162  124.079505  102.443793  125.382861  109.481916  \n",
       "19  131.899642  126.946888  120.951450  116.259368  121.994135  114.695341  \n",
       "20  121.212121  128.771587  129.032258  112.349299  117.041382  122.776149  \n",
       "21  127.728902  126.946888  130.596285  114.956012  122.254806  118.344738  \n",
       "22  119.908765  126.425546  136.331052  108.960573  127.468231  114.434669  \n",
       "23  130.335614  125.122190  123.818833  132.681655  124.861518  134.245683  "
      ]
     },
     "execution_count": 21,
     "metadata": {},
     "output_type": "execute_result"
    }
   ],
   "source": [
    "#Данные за 25.03 BT-20 AUI-87 MTT-Assay & AUI-97\n",
    "data=pd.read_excel('D:/AnnaB/AUI-97/All_2_AUI-97_24h.xlsx',index_col=None)\n",
    "\n",
    "X = data.loc[8:23,\"k\":\"c_500\"]\n",
    "#Y = data.loc[0:23,\"time\"]\n",
    "X.head(35)"
   ]
  },
  {
   "cell_type": "code",
   "execution_count": 4,
   "metadata": {},
   "outputs": [],
   "source": []
  },
  {
   "cell_type": "code",
   "execution_count": 22,
   "metadata": {},
   "outputs": [
    {
     "data": {
      "text/plain": [
       "<matplotlib.axes._subplots.AxesSubplot at 0x1d5bd3a6e80>"
      ]
     },
     "execution_count": 22,
     "metadata": {},
     "output_type": "execute_result"
    },
    {
     "data": {
      "image/png": "[encoded data removed]",
      "text/plain": [
       "<Figure size 432x288 with 1 Axes>"
      ]
     },
     "metadata": {
      "needs_background": "light"
     },
     "output_type": "display_data"
    }
   ],
   "source": [
    "X.columns=['Control','3_μg/ml','4_μg/ml','5_μg/ml','10_μg/ml','25_μg/ml','50_μg/ml','100_μg/ml','200_μg/ml','300_μg/ml','400_μg/ml','500_μg/ml']\n",
    "X.boxplot(column=['Control','3_μg/ml','4_μg/ml','5_μg/ml','10_μg/ml','25_μg/ml','50_μg/ml','100_μg/ml','200_μg/ml','300_μg/ml','400_μg/ml','500_μg/ml'], grid=False, rot=45)"
   ]
  },
  {
   "cell_type": "code",
   "execution_count": 23,
   "metadata": {},
   "outputs": [
    {
     "name": "stdout",
     "output_type": "stream",
     "text": [
      "0.5671151775961772 0.853717373348339\n"
     ]
    }
   ],
   "source": [
    "f, p = stats.f_oneway(X['Control'], X['3_μg/ml'], X['4_μg/ml'], X['5_μg/ml'],X['10_μg/ml'],X['25_μg/ml'],X['50_μg/ml'],X['100_μg/ml'],X['200_μg/ml'],X['300_μg/ml'],X['400_μg/ml'],X['500_μg/ml'])\n",
    "print(f,p)\n",
    "#f1, p1 = stats.f_oneway(X['100_μg/ml'],X['200_μg/ml'],X['300_μg/ml'],X['400_μg/ml'],X['500_μg/ml'])\n",
    "#print(f1,p1)\n",
    "#['Control','3_μg/ml','4_μg/ml','5_μg/ml','10_μg/ml','25_μg/ml','50_μg/ml','100_μg/ml','200_μg/ml','300_μg/ml','400_μg/ml','500_μg/ml']"
   ]
  },
  {
   "cell_type": "code",
   "execution_count": 24,
   "metadata": {},
   "outputs": [
    {
     "data": {
      "text/html": [
       "<div>\n",
       "<style scoped>\n",
       "    .dataframe tbody tr th:only-of-type {\n",
       "        vertical-align: middle;\n",
       "    }\n",
       "\n",
       "    .dataframe tbody tr th {\n",
       "        vertical-align: top;\n",
       "    }\n",
       "\n",
       "    .dataframe thead th {\n",
       "        text-align: right;\n",
       "    }\n",
       "</style>\n",
       "<table border=\"1\" class=\"dataframe\">\n",
       "  <thead>\n",
       "    <tr style=\"text-align: right;\">\n",
       "      <th></th>\n",
       "      <th>sum_sq</th>\n",
       "      <th>df</th>\n",
       "      <th>F</th>\n",
       "      <th>PR(&gt;F)</th>\n",
       "    </tr>\n",
       "  </thead>\n",
       "  <tbody>\n",
       "    <tr>\n",
       "      <th>C(Concentration)</th>\n",
       "      <td>1892.861334</td>\n",
       "      <td>11.0</td>\n",
       "      <td>0.567115</td>\n",
       "      <td>0.853717</td>\n",
       "    </tr>\n",
       "    <tr>\n",
       "      <th>Residual</th>\n",
       "      <td>54616.938120</td>\n",
       "      <td>180.0</td>\n",
       "      <td>NaN</td>\n",
       "      <td>NaN</td>\n",
       "    </tr>\n",
       "  </tbody>\n",
       "</table>\n",
       "</div>"
      ],
      "text/plain": [
       "                        sum_sq     df         F    PR(>F)\n",
       "C(Concentration)   1892.861334   11.0  0.567115  0.853717\n",
       "Residual          54616.938120  180.0       NaN       NaN"
      ]
     },
     "execution_count": 24,
     "metadata": {},
     "output_type": "execute_result"
    }
   ],
   "source": [
    "d_melt = pd.melt(X.reset_index(), id_vars=['index'], value_vars=['Control','3_μg/ml','4_μg/ml','5_μg/ml','10_μg/ml','25_μg/ml','50_μg/ml','100_μg/ml','200_μg/ml','300_μg/ml','400_μg/ml','500_μg/ml'])\n",
    "# replace column names\n",
    "d_melt.columns = ['index', 'Concentration', 'value']\n",
    "# Ordinary Least Squares (OLS) model\n",
    "model = ols('value ~ C(Concentration)', data=d_melt).fit()\n",
    "anova_table = sm.stats.anova_lm(model, typ=2)\n",
    "anova_table"
   ]
  },
  {
   "cell_type": "code",
   "execution_count": 14,
   "metadata": {},
   "outputs": [],
   "source": [
    "anova_table.to_excel(r'D:/AnnaB/AUI-97/Results_of_Analisis/Anova_AUI-97_24h_Conc(3-500μg_ml)!!!!.xlsx', index = False)"
   ]
  },
  {
   "cell_type": "code",
   "execution_count": 25,
   "metadata": {},
   "outputs": [],
   "source": [
    "import pandas as pd\n",
    "import seaborn as sns"
   ]
  },
  {
   "cell_type": "code",
   "execution_count": 26,
   "metadata": {},
   "outputs": [
    {
     "name": "stdout",
     "output_type": "stream",
     "text": [
      "                       sum_sq     df         F    PR(>F)\n",
      "C(Conc)           5797.619669   11.0  2.369938  0.008294\n",
      "C(time)            242.543820    1.0  1.090612  0.297291\n",
      "C(Conc):C(time)   3717.781711   11.0  1.519747  0.124125\n",
      "Residual         58711.604538  264.0       NaN       NaN\n"
     ]
    },
    {
     "data": {
      "image/png": "[encoded data removed]",
      "text/plain": [
       "<Figure size 432x288 with 1 Axes>"
      ]
     },
     "metadata": {
      "needs_background": "light"
     },
     "output_type": "display_data"
    }
   ],
   "source": [
    "import pandas as pd\n",
    "import statsmodels.api as sm\n",
    "from statsmodels.formula.api import ols\n",
    "from statsmodels.stats.anova import anova_lm\n",
    "import matplotlib.pyplot as plt\n",
    "\n",
    "data = d=pd.read_excel('D:/AnnaB/AUI-97/All_2_AUI-97_24h.xlsx',index_col=None)\n",
    "d_melt = pd.melt(d, id_vars=['time'], value_vars=['k', 'c_3', 'c_4', 'c_5', 'c_10', 'c_25', 'c_50', 'c_100', 'c_200', 'c_300', 'c_400', 'c_500'])\n",
    "d_melt.columns = ['time', 'Conc', 'value']\n",
    "d_melt.head()\n",
    "\n",
    "# ANOVA\n",
    "formula = 'value~C(Conc)+C(time)+C(Conc):C(time)'\n",
    "model = ols(formula, d_melt).fit()\n",
    "aov_table = anova_lm(model, typ=2)\n",
    "\n",
    "print(aov_table)\n",
    "aov_table.to_excel(r'D:/AnnaB/AUI-97/Results_of_Analisis/Anova_TwoFactor_AUI-97!!!.xlsx', index = False)\n",
    "\n",
    "res = model.resid \n",
    "fig = sm.qqplot(res, line='s')\n",
    "plt.show()"
   ]
  },
  {
   "cell_type": "code",
   "execution_count": 27,
   "metadata": {
    "scrolled": true
   },
   "outputs": [
    {
     "name": "stdout",
     "output_type": "stream",
     "text": [
      "    Time_of_Exposition_AUI-97 Concentration_of_AUI-97  Values_of_Survival\n",
      "0                         48H                       k           98.600646\n",
      "1                         48H                       k          103.121636\n",
      "2                         48H                       k           97.524220\n",
      "3                         48H                       k           96.447793\n",
      "4                         48H                       k          101.399354\n",
      "5                         48H                       k          106.781485\n",
      "6                         48H                       k          100.538213\n",
      "7                         48H                       k           95.586652\n",
      "8                         24H                       k          102.283105\n",
      "9                         24H                       k          101.488982\n",
      "10                        24H                       k           93.388922\n",
      "11                        24H                       k          101.488982\n",
      "12                        24H                       k          105.141950\n",
      "13                        24H                       k           98.788962\n",
      "14                        24H                       k           99.424260\n",
      "15                        24H                       k           97.994838\n",
      "16                        24H                       k           95.927012\n",
      "17                        24H                       k           91.495601\n",
      "18                        24H                       k           99.055067\n",
      "19                        24H                       k           97.491039\n",
      "20                        24H                       k          100.358423\n",
      "21                        24H                       k          102.704464\n",
      "22                        24H                       k          109.221245\n",
      "23                        24H                       k          103.747149\n",
      "24                        24H                       k                 NaN\n",
      "25                        24H                       k                 NaN\n",
      "26                        24H                       k                 NaN\n",
      "27                        24H                       k                 NaN\n",
      "28                        24H                       k                 NaN\n",
      "29                        24H                       k                 NaN\n",
      "..                        ...                     ...                 ...\n",
      "354                       48H                   c_500          133.261572\n",
      "355                       48H                   c_500          127.879440\n",
      "356                       48H                   c_500          113.240043\n",
      "357                       48H                   c_500          119.052745\n",
      "358                       48H                   c_500          114.316469\n",
      "359                       48H                   c_500          129.386437\n",
      "360                       24H                   c_500           95.930117\n",
      "361                       24H                   c_500           94.500695\n",
      "362                       24H                   c_500          100.218384\n",
      "363                       24H                   c_500           84.653564\n",
      "364                       24H                   c_500          105.300774\n",
      "365                       24H                   c_500          105.936073\n",
      "366                       24H                   c_500          104.665475\n",
      "367                       24H                   c_500          107.683145\n",
      "368                       24H                   c_500          128.250244\n",
      "369                       24H                   c_500          118.605409\n",
      "370                       24H                   c_500          109.481916\n",
      "371                       24H                   c_500          114.695341\n",
      "372                       24H                   c_500          122.776149\n",
      "373                       24H                   c_500          118.344738\n",
      "374                       24H                   c_500          114.434669\n",
      "375                       24H                   c_500          134.245683\n",
      "376                       24H                   c_500                 NaN\n",
      "377                       24H                   c_500                 NaN\n",
      "378                       24H                   c_500                 NaN\n",
      "379                       24H                   c_500                 NaN\n",
      "380                       24H                   c_500                 NaN\n",
      "381                       24H                   c_500                 NaN\n",
      "382                       24H                   c_500                 NaN\n",
      "383                       24H                   c_500                 NaN\n",
      "\n",
      "[384 rows x 3 columns]\n"
     ]
    },
    {
     "data": {
      "text/plain": [
       "<matplotlib.axes._subplots.AxesSubplot at 0x1d5bd514ba8>"
      ]
     },
     "execution_count": 27,
     "metadata": {},
     "output_type": "execute_result"
    },
    {
     "data": {
      "image/png": "[encoded data removed]",
      "text/plain": [
       "<Figure size 432x288 with 1 Axes>"
      ]
     },
     "metadata": {
      "needs_background": "light"
     },
     "output_type": "display_data"
    }
   ],
   "source": [
    "import pandas as pd\n",
    "import seaborn as sns\n",
    "import matplotlib\n",
    "d=pd.read_excel('D:/AnnaB/AUI-97/All_2_AUI-97_24h.xlsx',index_col=None)\n",
    "d_melt = pd.melt(d, id_vars=['time'], value_vars=['k',  'c_3', 'c_4', 'c_5', 'c_10', 'c_25', 'c_50', 'c_100', 'c_200', 'c_300', 'c_400', 'c_500'])\n",
    "d_melt.columns = [\"Time_of_Exposition_AUI-97\", \"Concentration_of_AUI-97\", \"Values_of_Survival\"]\n",
    "d_melt.head()\n",
    "\n",
    "print(d_melt)\n",
    "sns.boxplot(x=\"Concentration_of_AUI-97\", y=\"Values_of_Survival\", hue=\"Time_of_Exposition_AUI-97\", data=d_melt, palette=\"Set2\",fliersize=3,whis=1) \n",
    "\n",
    "\n",
    "\n"
   ]
  },
  {
   "cell_type": "code",
   "execution_count": 32,
   "metadata": {},
   "outputs": [
    {
     "name": "stdout",
     "output_type": "stream",
     "text": [
      "    principal component 1  principal component 2\n",
      "0                6.771976               4.376189\n",
      "1                0.794144              -3.536249\n",
      "2                1.037528              -1.999049\n",
      "3                0.216213              -0.936085\n",
      "4               -0.792827              -1.888124\n",
      "5               -1.618642              -0.108770\n",
      "6               -6.408393               4.092088\n",
      "7                1.334991              -1.353806\n",
      "8                4.235555               2.043940\n",
      "9               -3.587940              -1.018959\n",
      "10               1.294996              -2.061872\n",
      "11              -3.277602               2.390696\n",
      "12              -1.534209               0.292965\n",
      "13              -1.735125               0.099172\n",
      "14              -2.658309               1.183244\n",
      "15              -2.666450              -0.362945\n",
      "16              -1.525934              -0.138167\n",
      "17              -0.773479               1.515843\n",
      "18               0.743167              -0.813466\n",
      "19              -0.688175              -1.012108\n",
      "20               0.877916              -1.544534\n",
      "21               1.101520               0.251892\n",
      "22               3.549937              -1.104812\n",
      "23               5.309142               1.632917\n"
     ]
    }
   ],
   "source": [
    "#PCA обработка\n",
    "\n",
    "import numpy as np # linear algebra\n",
    "import seaborn as sns\n",
    "import matplotlib\n",
    "import pandas as pd # data processing, CSV file I/O (e.g. pd.read_csv)\n",
    "from sklearn.decomposition import PCA\n",
    "import matplotlib.pyplot as plt\n",
    "from sklearn.manifold import TSNE\n",
    "from sklearn.preprocessing import StandardScaler\n",
    "import array as arr\n",
    "#data=pd.read_excel('D:/AnnaB/AUI-97/PCA_AUI97_Full.xlsx',index_col=None)\n",
    "final=pd.read_excel('D:/AnnaB/AUI-97/PCA_AUI97_Full.xlsx',index_col=None)\n",
    "#X = data.loc[0:23,\"principal component 1\":\"principal component 2\"]\n",
    "#Y = data.loc[0:23,\"time\"]\n",
    "#final = pd.concat([Y, X], axis= 1)\n",
    "print(final)\n",
    "\n"
   ]
  },
  {
   "cell_type": "code",
   "execution_count": 24,
   "metadata": {},
   "outputs": [
    {
     "data": {
      "text/plain": [
       "(3, 9)"
      ]
     },
     "execution_count": 24,
     "metadata": {},
     "output_type": "execute_result"
    }
   ],
   "source": [
    "pca = PCA(0.90)\n",
    "X_pca = pca.fit_transform(final)\n",
    "pca.components_.shape\n",
    "\n",
    "\n"
   ]
  },
  {
   "cell_type": "code",
   "execution_count": 25,
   "metadata": {},
   "outputs": [
    {
     "data": {
      "text/plain": [
       "array([0.72018888, 0.13842215, 0.06187482])"
      ]
     },
     "execution_count": 25,
     "metadata": {},
     "output_type": "execute_result"
    }
   ],
   "source": [
    "pca.explained_variance_ratio_\n"
   ]
  },
  {
   "cell_type": "code",
   "execution_count": 26,
   "metadata": {},
   "outputs": [],
   "source": [
    "x = X\n",
    "y = Y\n",
    "\n",
    "x = StandardScaler().fit_transform(x)"
   ]
  },
  {
   "cell_type": "code",
   "execution_count": 27,
   "metadata": {},
   "outputs": [],
   "source": [
    "pca = PCA(n_components=2)\n",
    "principalComponents = pca.fit_transform(x)"
   ]
  },
  {
   "cell_type": "code",
   "execution_count": 28,
   "metadata": {},
   "outputs": [],
   "source": [
    "principalDf = pd.DataFrame(data = principalComponents\n",
    "             , columns = ['principal component 1','principal component 2'])\n",
    "principalDf.to_excel(r'D:/AnnaB/AUI-97/PCA_3.xlsx', index = False)\n"
   ]
  },
  {
   "cell_type": "code",
   "execution_count": 33,
   "metadata": {},
   "outputs": [],
   "source": [
    "yDf = pd.Series(['1','1','1','1','1','1','1','1','1','1','1','1','2','2','2','2','2','2','2','2','2','2','2','2'])\n",
    "#yDf = pd.Series(['2','2','2','2','2','2','2','2','2','2','2','2'])"
   ]
  },
  {
   "cell_type": "code",
   "execution_count": 34,
   "metadata": {},
   "outputs": [
    {
     "data": {
      "text/html": [
       "<div>\n",
       "<style scoped>\n",
       "    .dataframe tbody tr th:only-of-type {\n",
       "        vertical-align: middle;\n",
       "    }\n",
       "\n",
       "    .dataframe tbody tr th {\n",
       "        vertical-align: top;\n",
       "    }\n",
       "\n",
       "    .dataframe thead th {\n",
       "        text-align: right;\n",
       "    }\n",
       "</style>\n",
       "<table border=\"1\" class=\"dataframe\">\n",
       "  <thead>\n",
       "    <tr style=\"text-align: right;\">\n",
       "      <th></th>\n",
       "      <th>principal component 1</th>\n",
       "      <th>principal component 2</th>\n",
       "      <th>0</th>\n",
       "    </tr>\n",
       "  </thead>\n",
       "  <tbody>\n",
       "    <tr>\n",
       "      <th>0</th>\n",
       "      <td>6.771976</td>\n",
       "      <td>4.376189</td>\n",
       "      <td>1</td>\n",
       "    </tr>\n",
       "    <tr>\n",
       "      <th>1</th>\n",
       "      <td>0.794144</td>\n",
       "      <td>-3.536249</td>\n",
       "      <td>1</td>\n",
       "    </tr>\n",
       "    <tr>\n",
       "      <th>2</th>\n",
       "      <td>1.037528</td>\n",
       "      <td>-1.999049</td>\n",
       "      <td>1</td>\n",
       "    </tr>\n",
       "    <tr>\n",
       "      <th>3</th>\n",
       "      <td>0.216213</td>\n",
       "      <td>-0.936085</td>\n",
       "      <td>1</td>\n",
       "    </tr>\n",
       "    <tr>\n",
       "      <th>4</th>\n",
       "      <td>-0.792827</td>\n",
       "      <td>-1.888124</td>\n",
       "      <td>1</td>\n",
       "    </tr>\n",
       "    <tr>\n",
       "      <th>5</th>\n",
       "      <td>-1.618642</td>\n",
       "      <td>-0.108770</td>\n",
       "      <td>1</td>\n",
       "    </tr>\n",
       "    <tr>\n",
       "      <th>6</th>\n",
       "      <td>-6.408393</td>\n",
       "      <td>4.092088</td>\n",
       "      <td>1</td>\n",
       "    </tr>\n",
       "    <tr>\n",
       "      <th>7</th>\n",
       "      <td>1.334991</td>\n",
       "      <td>-1.353806</td>\n",
       "      <td>1</td>\n",
       "    </tr>\n",
       "    <tr>\n",
       "      <th>8</th>\n",
       "      <td>4.235555</td>\n",
       "      <td>2.043940</td>\n",
       "      <td>1</td>\n",
       "    </tr>\n",
       "    <tr>\n",
       "      <th>9</th>\n",
       "      <td>-3.587940</td>\n",
       "      <td>-1.018959</td>\n",
       "      <td>1</td>\n",
       "    </tr>\n",
       "    <tr>\n",
       "      <th>10</th>\n",
       "      <td>1.294996</td>\n",
       "      <td>-2.061872</td>\n",
       "      <td>1</td>\n",
       "    </tr>\n",
       "    <tr>\n",
       "      <th>11</th>\n",
       "      <td>-3.277602</td>\n",
       "      <td>2.390696</td>\n",
       "      <td>1</td>\n",
       "    </tr>\n",
       "    <tr>\n",
       "      <th>12</th>\n",
       "      <td>-1.534209</td>\n",
       "      <td>0.292965</td>\n",
       "      <td>2</td>\n",
       "    </tr>\n",
       "    <tr>\n",
       "      <th>13</th>\n",
       "      <td>-1.735125</td>\n",
       "      <td>0.099172</td>\n",
       "      <td>2</td>\n",
       "    </tr>\n",
       "    <tr>\n",
       "      <th>14</th>\n",
       "      <td>-2.658309</td>\n",
       "      <td>1.183244</td>\n",
       "      <td>2</td>\n",
       "    </tr>\n",
       "  </tbody>\n",
       "</table>\n",
       "</div>"
      ],
      "text/plain": [
       "    principal component 1  principal component 2  0\n",
       "0                6.771976               4.376189  1\n",
       "1                0.794144              -3.536249  1\n",
       "2                1.037528              -1.999049  1\n",
       "3                0.216213              -0.936085  1\n",
       "4               -0.792827              -1.888124  1\n",
       "5               -1.618642              -0.108770  1\n",
       "6               -6.408393               4.092088  1\n",
       "7                1.334991              -1.353806  1\n",
       "8                4.235555               2.043940  1\n",
       "9               -3.587940              -1.018959  1\n",
       "10               1.294996              -2.061872  1\n",
       "11              -3.277602               2.390696  1\n",
       "12              -1.534209               0.292965  2\n",
       "13              -1.735125               0.099172  2\n",
       "14              -2.658309               1.183244  2"
      ]
     },
     "execution_count": 34,
     "metadata": {},
     "output_type": "execute_result"
    }
   ],
   "source": [
    "#finalDf = pd.concat([principalDf, yDf], axis= 1)\n",
    "#finalDf.head(15)\n",
    "finalDf = pd.concat([final, yDf], axis= 1)\n",
    "finalDf.head(15)\n",
    "#finalDf.to_excel(r'D:/AnnaB/AUI-97/PCA_Full3.xlsx', index = False)"
   ]
  },
  {
   "cell_type": "code",
   "execution_count": 35,
   "metadata": {},
   "outputs": [
    {
     "data": {
      "image/png": "[encoded data removed]",
      "text/plain": [
       "<Figure size 576x576 with 1 Axes>"
      ]
     },
     "metadata": {
      "needs_background": "light"
     },
     "output_type": "display_data"
    }
   ],
   "source": [
    "\n",
    "fig = plt.figure(figsize = (8,8))\n",
    "ax = fig.add_subplot(1,1,1) \n",
    "ax.set_xlabel('PC 1', fontsize = 15)\n",
    "ax.set_ylabel('PC 2', fontsize = 15)\n",
    "ax.set_title('Выживаемость BT-20, AUI-97' \"\\n\" 'Blue = 24h  Red = 48h', fontsize = 20)\n",
    "\n",
    "\n",
    "targets = ['2', '1']\n",
    "colors = ['r', 'b']\n",
    "for target, color in zip(targets,colors):\n",
    "    indicesToKeep = yDf == target\n",
    "    ax.scatter(finalDf.loc[indicesToKeep, 'principal component 1']\n",
    "               , finalDf.loc[indicesToKeep, 'principal component 2']\n",
    "               , c = color\n",
    "               , s = 50)\n",
    "ax.legend(targets)\n",
    "\n",
    "\n",
    "\n",
    "ax.grid()"
   ]
  },
  {
   "cell_type": "code",
   "execution_count": 92,
   "metadata": {},
   "outputs": [],
   "source": [
    "#Предобработка \n",
    "import numpy as np\n",
    "import pandas as pd\n",
    "import matplotlib\n",
    "import matplotlib.pyplot as plt"
   ]
  },
  {
   "cell_type": "code",
   "execution_count": 100,
   "metadata": {},
   "outputs": [
    {
     "name": "stdout",
     "output_type": "stream",
     "text": [
      "       k    C_3    C_4    C_5   C_10   C_25   C_50  C_100  C_200  C_300  \\\n",
      "0  0.368  0.431  0.423  0.422  0.461  0.457  0.475  0.436  0.475  0.439   \n",
      "1  0.351  0.420  0.412  0.402  0.414  0.445  0.453  0.505  0.458  0.430   \n",
      "2  0.380  0.410  0.483  0.439  0.420  0.432  0.460  0.474  0.476  0.393   \n",
      "3  0.374  0.418  0.427  0.441  0.430  0.496  0.506  0.487  0.464  0.446   \n",
      "4  0.385  0.410  0.443  0.422  0.476  0.443  0.465  0.494  0.495  0.431   \n",
      "5  0.394  0.453  0.444  0.426  0.478  0.488  0.490  0.487  0.501  0.441   \n",
      "6  0.419  0.435  0.423  0.466  0.488  0.427  0.460  0.485  0.523  0.418   \n",
      "7  0.398  0.425  0.352  0.466  0.461  0.428  0.500  0.480  0.475  0.509   \n",
      "\n",
      "   C_400  C_500  \n",
      "0  0.432  0.492  \n",
      "1  0.418  0.455  \n",
      "2  0.481  0.420  \n",
      "3  0.468  0.440  \n",
      "4  0.449  0.471  \n",
      "5  0.469  0.454  \n",
      "6  0.489  0.439  \n",
      "7  0.479  0.515  \n"
     ]
    }
   ],
   "source": [
    "data=pd.read_excel('D:/AnnaB/AUI-97/MTT BT-20_AUI-97_24h_25.03.xls',index_col=None)\n",
    "X = data.loc[0:7,\"k\":'C_500']\n",
    "\n",
    "    \n",
    "print(X)"
   ]
  },
  {
   "cell_type": "code",
   "execution_count": 94,
   "metadata": {},
   "outputs": [
    {
     "name": "stdout",
     "output_type": "stream",
     "text": [
      "0.383625\n"
     ]
    }
   ],
   "source": [
    "def sr(lst):\n",
    "    return sum(lst)/len(lst)\n",
    "\n",
    "#lst=X.loc[:,] \n",
    "med=0.383625\n",
    "print(med)"
   ]
  },
  {
   "cell_type": "code",
   "execution_count": null,
   "metadata": {},
   "outputs": [],
   "source": []
  }
 ],
 "metadata": {
  "kernelspec": {
   "display_name": "Python 3",
   "language": "python",
   "name": "python3"
  },
  "language_info": {
   "codemirror_mode": {
    "name": "ipython",
    "version": 3
   },
   "file_extension": ".py",
   "mimetype": "text/x-python",
   "name": "python",
   "nbconvert_exporter": "python",
   "pygments_lexer": "ipython3",
   "version": "3.7.3"
  }
 },
 "nbformat": 4,
 "nbformat_minor": 2
}
